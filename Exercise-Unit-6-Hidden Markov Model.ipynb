{
 "cells": [
  {
   "cell_type": "code",
   "execution_count": 1,
   "id": "0cf6ea91",
   "metadata": {},
   "outputs": [],
   "source": [
    "from collections import defaultdict\n",
    "import math"
   ]
  },
  {
   "cell_type": "code",
   "execution_count": null,
   "id": "80d50e8f",
   "metadata": {},
   "outputs": [],
   "source": [
    "# Training Data\n",
    "train_sentences = [\n",
    "    \"The_DET cat_NOUN sleeps_VERB\",\n",
    "    \"A_DET dog_NOUN barks_VERB\",\n",
    "    \"The_DET dog_NOUN sleeps_VERB\",\n",
    "    \"My_DET dog_NOUN runs_VERB fast_ADV\",\n",
    "    \"A_DET cat_NOUN meows_VERB loudly_ADV\",\n",
    "    \"Your_DET cat_NOUN runs_VERB\",\n",
    "    \"The_DET bird_NOUN sings_VERB sweetly_ADV\",\n",
    "    \"A_DET bird_NOUN chirps_VERB\"\n",
    "]"
   ]
  },
  {
   "cell_type": "code",
   "execution_count": null,
   "id": "d771eccc",
   "metadata": {},
   "outputs": [],
   "source": [
    "# Count Transitions and Emissions\n",
    "transition_counts = defaultdict(lambda: defaultdict(int))\n",
    "emission_counts = defaultdict(lambda: defaultdict(int))\n",
    "tag_counts = defaultdict(int)\n",
    "\n",
    "for sentence in train_sentences:\n",
    "    previous_tag = 'START'\n",
    "    for wt in sentence.split():\n",
    "        word, tag = wt.rsplit('_', 1)\n",
    "        word = word.lower()\n",
    "\n",
    "        # Count transitions\n",
    "        transition_counts[previous_tag][tag] += 1\n",
    "        previous_tag = tag\n",
    "\n",
    "        # Count emissions\n",
    "        emission_counts[tag][word] += 1\n",
    "        tag_counts[tag] += 1\n",
    "\n",
    "    # Add END transition\n",
    "    transition_counts[previous_tag]['END'] += 1"
   ]
  },
  {
   "cell_type": "code",
   "execution_count": null,
   "id": "523bc820",
   "metadata": {},
   "outputs": [],
   "source": [
    "\n",
    "# Compute Probabilities\n",
    "def compute_log_probs(counts):\n",
    "    probs = defaultdict(dict)\n",
    "    for outer in counts:\n",
    "        total = sum(counts[outer].values())\n",
    "        for inner in counts[outer]:\n",
    "            prob = counts[outer][inner] / total\n",
    "            probs[outer][inner] = math.log(prob)\n",
    "    return probs\n",
    "\n",
    "transition_probs = compute_log_probs(transition_counts)\n",
    "emission_probs = compute_log_probs(emission_counts)"
   ]
  },
  {
   "cell_type": "code",
   "execution_count": null,
   "id": "a06bd81b",
   "metadata": {},
   "outputs": [
    {
     "name": "stdout",
     "output_type": "stream",
     "text": [
      "=== Transition Log Probabilities ===\n",
      "log P(DET | START) = 0.000\n",
      "log P(NOUN | DET) = 0.000\n",
      "log P(VERB | NOUN) = 0.000\n",
      "log P(END | VERB) = -0.470\n",
      "log P(ADV | VERB) = -0.981\n",
      "log P(END | ADV) = 0.000\n",
      "\n",
      "=== Emission Log Probabilities ===\n",
      "log P(the | DET) = -0.981\n",
      "log P(a | DET) = -0.981\n",
      "log P(my | DET) = -2.079\n",
      "log P(your | DET) = -2.079\n",
      "log P(cat | NOUN) = -0.981\n",
      "log P(dog | NOUN) = -0.981\n",
      "log P(bird | NOUN) = -1.386\n",
      "log P(sleeps | VERB) = -1.386\n",
      "log P(barks | VERB) = -2.079\n",
      "log P(runs | VERB) = -1.386\n",
      "log P(meows | VERB) = -2.079\n",
      "log P(sings | VERB) = -2.079\n",
      "log P(chirps | VERB) = -2.079\n",
      "log P(fast | ADV) = -1.099\n",
      "log P(loudly | ADV) = -1.099\n",
      "log P(sweetly | ADV) = -1.099\n"
     ]
    }
   ],
   "source": [
    "# Show Probabilities\n",
    "print(\"=== Transition Log Probabilities ===\")\n",
    "for prev_tag in transition_probs:\n",
    "    for curr_tag in transition_probs[prev_tag]:\n",
    "        print(f\"log P({curr_tag} | {prev_tag}) = {transition_probs[prev_tag][curr_tag]:.3f}\")\n",
    "\n",
    "print(\"\\n=== Emission Log Probabilities ===\")\n",
    "for tag in emission_probs:\n",
    "    for word in emission_probs[tag]:\n",
    "        print(f\"log P({word} | {tag}) = {emission_probs[tag][word]:.3f}\")"
   ]
  }
 ],
 "metadata": {
  "kernelspec": {
   "display_name": "Python 3",
   "language": "python",
   "name": "python3"
  },
  "language_info": {
   "codemirror_mode": {
    "name": "ipython",
    "version": 3
   },
   "file_extension": ".py",
   "mimetype": "text/x-python",
   "name": "python",
   "nbconvert_exporter": "python",
   "pygments_lexer": "ipython3",
   "version": "3.11.1"
  }
 },
 "nbformat": 4,
 "nbformat_minor": 5
}
